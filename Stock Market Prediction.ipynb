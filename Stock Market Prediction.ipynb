{
 "cells": [
  {
   "cell_type": "code",
   "execution_count": 1,
   "metadata": {
    "id": "RHhjz1xe_nhR"
   },
   "outputs": [],
   "source": [
    "import pandas as pd\n",
    "import numpy as np\n",
    "from sklearn.preprocessing import MinMaxScaler"
   ]
  },
  {
   "cell_type": "code",
   "execution_count": 5,
   "metadata": {
    "id": "HLp35nB2_suH"
   },
   "outputs": [],
   "source": [
    "dataset = pd.read_csv('/content/Apple.csv')"
   ]
  },
  {
   "cell_type": "code",
   "execution_count": 6,
   "metadata": {
    "colab": {
     "base_uri": "https://localhost:8080/",
     "height": 371
    },
    "id": "R76DdyycAJbz",
    "outputId": "d05c23dd-6cba-4d3d-9593-463b299c9675"
   },
   "outputs": [
    {
     "data": {
      "text/html": [
       "\n",
       "  <div id=\"df-c4fd4700-b485-4cd7-b2c8-bf417be2a52e\">\n",
       "    <div class=\"colab-df-container\">\n",
       "      <div>\n",
       "<style scoped>\n",
       "    .dataframe tbody tr th:only-of-type {\n",
       "        vertical-align: middle;\n",
       "    }\n",
       "\n",
       "    .dataframe tbody tr th {\n",
       "        vertical-align: top;\n",
       "    }\n",
       "\n",
       "    .dataframe thead th {\n",
       "        text-align: right;\n",
       "    }\n",
       "</style>\n",
       "<table border=\"1\" class=\"dataframe\">\n",
       "  <thead>\n",
       "    <tr style=\"text-align: right;\">\n",
       "      <th></th>\n",
       "      <th>Date</th>\n",
       "      <th>WIKI/AAPL - Open</th>\n",
       "      <th>WIKI/AAPL - High</th>\n",
       "      <th>WIKI/AAPL - Low</th>\n",
       "      <th>WIKI/AAPL - Close</th>\n",
       "      <th>WIKI/AAPL - Volume</th>\n",
       "      <th>WIKI/AAPL - Ex-Dividend</th>\n",
       "      <th>WIKI/AAPL - Split Ratio</th>\n",
       "      <th>WIKI/AAPL - Adj. Open</th>\n",
       "      <th>WIKI/AAPL - Adj. High</th>\n",
       "      <th>WIKI/AAPL - Adj. Low</th>\n",
       "      <th>WIKI/AAPL - Adj. Close</th>\n",
       "      <th>WIKI/AAPL - Adj. Volume</th>\n",
       "    </tr>\n",
       "  </thead>\n",
       "  <tbody>\n",
       "    <tr>\n",
       "      <th>0</th>\n",
       "      <td>2000-01-03</td>\n",
       "      <td>104.87</td>\n",
       "      <td>112.50</td>\n",
       "      <td>101.69</td>\n",
       "      <td>111.94</td>\n",
       "      <td>4783900.0</td>\n",
       "      <td>0.0</td>\n",
       "      <td>1.0</td>\n",
       "      <td>3.369314</td>\n",
       "      <td>3.614454</td>\n",
       "      <td>3.267146</td>\n",
       "      <td>3.596463</td>\n",
       "      <td>133949200.0</td>\n",
       "    </tr>\n",
       "    <tr>\n",
       "      <th>1</th>\n",
       "      <td>2000-01-04</td>\n",
       "      <td>108.25</td>\n",
       "      <td>110.62</td>\n",
       "      <td>101.19</td>\n",
       "      <td>102.50</td>\n",
       "      <td>4574800.0</td>\n",
       "      <td>0.0</td>\n",
       "      <td>1.0</td>\n",
       "      <td>3.477908</td>\n",
       "      <td>3.554053</td>\n",
       "      <td>3.251081</td>\n",
       "      <td>3.293170</td>\n",
       "      <td>128094400.0</td>\n",
       "    </tr>\n",
       "    <tr>\n",
       "      <th>2</th>\n",
       "      <td>2000-01-05</td>\n",
       "      <td>103.75</td>\n",
       "      <td>110.56</td>\n",
       "      <td>103.00</td>\n",
       "      <td>104.00</td>\n",
       "      <td>6949300.0</td>\n",
       "      <td>0.0</td>\n",
       "      <td>1.0</td>\n",
       "      <td>3.333330</td>\n",
       "      <td>3.552125</td>\n",
       "      <td>3.309234</td>\n",
       "      <td>3.341362</td>\n",
       "      <td>194580400.0</td>\n",
       "    </tr>\n",
       "    <tr>\n",
       "      <th>3</th>\n",
       "      <td>2000-01-06</td>\n",
       "      <td>106.12</td>\n",
       "      <td>107.00</td>\n",
       "      <td>95.00</td>\n",
       "      <td>95.00</td>\n",
       "      <td>6856900.0</td>\n",
       "      <td>0.0</td>\n",
       "      <td>1.0</td>\n",
       "      <td>3.409475</td>\n",
       "      <td>3.437748</td>\n",
       "      <td>3.052206</td>\n",
       "      <td>3.052206</td>\n",
       "      <td>191993200.0</td>\n",
       "    </tr>\n",
       "    <tr>\n",
       "      <th>4</th>\n",
       "      <td>2000-01-07</td>\n",
       "      <td>96.50</td>\n",
       "      <td>101.00</td>\n",
       "      <td>95.50</td>\n",
       "      <td>99.50</td>\n",
       "      <td>4113700.0</td>\n",
       "      <td>0.0</td>\n",
       "      <td>1.0</td>\n",
       "      <td>3.100399</td>\n",
       "      <td>3.244977</td>\n",
       "      <td>3.068270</td>\n",
       "      <td>3.196784</td>\n",
       "      <td>115183600.0</td>\n",
       "    </tr>\n",
       "  </tbody>\n",
       "</table>\n",
       "</div>\n",
       "      <button class=\"colab-df-convert\" onclick=\"convertToInteractive('df-c4fd4700-b485-4cd7-b2c8-bf417be2a52e')\"\n",
       "              title=\"Convert this dataframe to an interactive table.\"\n",
       "              style=\"display:none;\">\n",
       "        \n",
       "  <svg xmlns=\"http://www.w3.org/2000/svg\" height=\"24px\"viewBox=\"0 0 24 24\"\n",
       "       width=\"24px\">\n",
       "    <path d=\"M0 0h24v24H0V0z\" fill=\"none\"/>\n",
       "    <path d=\"M18.56 5.44l.94 2.06.94-2.06 2.06-.94-2.06-.94-.94-2.06-.94 2.06-2.06.94zm-11 1L8.5 8.5l.94-2.06 2.06-.94-2.06-.94L8.5 2.5l-.94 2.06-2.06.94zm10 10l.94 2.06.94-2.06 2.06-.94-2.06-.94-.94-2.06-.94 2.06-2.06.94z\"/><path d=\"M17.41 7.96l-1.37-1.37c-.4-.4-.92-.59-1.43-.59-.52 0-1.04.2-1.43.59L10.3 9.45l-7.72 7.72c-.78.78-.78 2.05 0 2.83L4 21.41c.39.39.9.59 1.41.59.51 0 1.02-.2 1.41-.59l7.78-7.78 2.81-2.81c.8-.78.8-2.07 0-2.86zM5.41 20L4 18.59l7.72-7.72 1.47 1.35L5.41 20z\"/>\n",
       "  </svg>\n",
       "      </button>\n",
       "      \n",
       "  <style>\n",
       "    .colab-df-container {\n",
       "      display:flex;\n",
       "      flex-wrap:wrap;\n",
       "      gap: 12px;\n",
       "    }\n",
       "\n",
       "    .colab-df-convert {\n",
       "      background-color: #E8F0FE;\n",
       "      border: none;\n",
       "      border-radius: 50%;\n",
       "      cursor: pointer;\n",
       "      display: none;\n",
       "      fill: #1967D2;\n",
       "      height: 32px;\n",
       "      padding: 0 0 0 0;\n",
       "      width: 32px;\n",
       "    }\n",
       "\n",
       "    .colab-df-convert:hover {\n",
       "      background-color: #E2EBFA;\n",
       "      box-shadow: 0px 1px 2px rgba(60, 64, 67, 0.3), 0px 1px 3px 1px rgba(60, 64, 67, 0.15);\n",
       "      fill: #174EA6;\n",
       "    }\n",
       "\n",
       "    [theme=dark] .colab-df-convert {\n",
       "      background-color: #3B4455;\n",
       "      fill: #D2E3FC;\n",
       "    }\n",
       "\n",
       "    [theme=dark] .colab-df-convert:hover {\n",
       "      background-color: #434B5C;\n",
       "      box-shadow: 0px 1px 3px 1px rgba(0, 0, 0, 0.15);\n",
       "      filter: drop-shadow(0px 1px 2px rgba(0, 0, 0, 0.3));\n",
       "      fill: #FFFFFF;\n",
       "    }\n",
       "  </style>\n",
       "\n",
       "      <script>\n",
       "        const buttonEl =\n",
       "          document.querySelector('#df-c4fd4700-b485-4cd7-b2c8-bf417be2a52e button.colab-df-convert');\n",
       "        buttonEl.style.display =\n",
       "          google.colab.kernel.accessAllowed ? 'block' : 'none';\n",
       "\n",
       "        async function convertToInteractive(key) {\n",
       "          const element = document.querySelector('#df-c4fd4700-b485-4cd7-b2c8-bf417be2a52e');\n",
       "          const dataTable =\n",
       "            await google.colab.kernel.invokeFunction('convertToInteractive',\n",
       "                                                     [key], {});\n",
       "          if (!dataTable) return;\n",
       "\n",
       "          const docLinkHtml = 'Like what you see? Visit the ' +\n",
       "            '<a target=\"_blank\" href=https://colab.research.google.com/notebooks/data_table.ipynb>data table notebook</a>'\n",
       "            + ' to learn more about interactive tables.';\n",
       "          element.innerHTML = '';\n",
       "          dataTable['output_type'] = 'display_data';\n",
       "          await google.colab.output.renderOutput(dataTable, element);\n",
       "          const docLink = document.createElement('div');\n",
       "          docLink.innerHTML = docLinkHtml;\n",
       "          element.appendChild(docLink);\n",
       "        }\n",
       "      </script>\n",
       "    </div>\n",
       "  </div>\n",
       "  "
      ],
      "text/plain": [
       "         Date  WIKI/AAPL - Open  WIKI/AAPL - High  WIKI/AAPL - Low  \\\n",
       "0  2000-01-03            104.87            112.50           101.69   \n",
       "1  2000-01-04            108.25            110.62           101.19   \n",
       "2  2000-01-05            103.75            110.56           103.00   \n",
       "3  2000-01-06            106.12            107.00            95.00   \n",
       "4  2000-01-07             96.50            101.00            95.50   \n",
       "\n",
       "   WIKI/AAPL - Close  WIKI/AAPL - Volume  WIKI/AAPL - Ex-Dividend  \\\n",
       "0             111.94           4783900.0                      0.0   \n",
       "1             102.50           4574800.0                      0.0   \n",
       "2             104.00           6949300.0                      0.0   \n",
       "3              95.00           6856900.0                      0.0   \n",
       "4              99.50           4113700.0                      0.0   \n",
       "\n",
       "   WIKI/AAPL - Split Ratio  WIKI/AAPL - Adj. Open  WIKI/AAPL - Adj. High  \\\n",
       "0                      1.0               3.369314               3.614454   \n",
       "1                      1.0               3.477908               3.554053   \n",
       "2                      1.0               3.333330               3.552125   \n",
       "3                      1.0               3.409475               3.437748   \n",
       "4                      1.0               3.100399               3.244977   \n",
       "\n",
       "   WIKI/AAPL - Adj. Low  WIKI/AAPL - Adj. Close  WIKI/AAPL - Adj. Volume  \n",
       "0              3.267146                3.596463              133949200.0  \n",
       "1              3.251081                3.293170              128094400.0  \n",
       "2              3.309234                3.341362              194580400.0  \n",
       "3              3.052206                3.052206              191993200.0  \n",
       "4              3.068270                3.196784              115183600.0  "
      ]
     },
     "execution_count": 6,
     "metadata": {},
     "output_type": "execute_result"
    }
   ],
   "source": [
    "dataset.head(5)"
   ]
  },
  {
   "cell_type": "code",
   "execution_count": 7,
   "metadata": {
    "id": "K_hkvdBIAfm2"
   },
   "outputs": [],
   "source": [
    "dataset = np.array(dataset)"
   ]
  },
  {
   "cell_type": "code",
   "execution_count": 8,
   "metadata": {
    "colab": {
     "base_uri": "https://localhost:8080/"
    },
    "id": "vLVZXKpEAiGv",
    "outputId": "42586c58-1040-42d1-9ba9-2a79303795d6"
   },
   "outputs": [
    {
     "data": {
      "text/plain": [
       "array([[0.13748043],\n",
       "       [0.13441651],\n",
       "       [0.13396273],\n",
       "       ...,\n",
       "       [0.22358584],\n",
       "       [0.22801109],\n",
       "       [0.22935791]])"
      ]
     },
     "execution_count": 8,
     "metadata": {},
     "output_type": "execute_result"
    }
   ],
   "source": [
    "#OHLC\n",
    "OHLC = dataset[:, 1:5].astype(float)\n",
    "OHLC = OHLC.mean(axis=1)\n",
    "OHLC = OHLC.reshape(-1, 1)\n",
    "scalerOHLC = MinMaxScaler()\n",
    "OHLC = scalerOHLC.fit_transform(OHLC)\n",
    "OHLC"
   ]
  },
  {
   "cell_type": "code",
   "execution_count": 9,
   "metadata": {
    "colab": {
     "base_uri": "https://localhost:8080/"
    },
    "id": "jHoz855hAk61",
    "outputId": "7ac251ac-9334-4a32-dccd-840af29170e1"
   },
   "outputs": [
    {
     "data": {
      "text/plain": [
       "array([[0.01452666],\n",
       "       [0.01415106],\n",
       "       [0.01409543],\n",
       "       ...,\n",
       "       [0.9208937 ],\n",
       "       [0.93777876],\n",
       "       [0.94291769]])"
      ]
     },
     "execution_count": 9,
     "metadata": {},
     "output_type": "execute_result"
    }
   ],
   "source": [
    "#AdjustedOHLC\n",
    "AdjustedOHLC = dataset[:, 8:12].astype(float)\n",
    "AdjustedOHLC = AdjustedOHLC.mean(axis=1)\n",
    "AdjustedOHLC = AdjustedOHLC.reshape(-1, 1)\n",
    "scalerAdjustedOHLC = MinMaxScaler()\n",
    "AdjustedOHLC = scalerAdjustedOHLC.fit_transform(AdjustedOHLC)\n",
    "AdjustedOHLC"
   ]
  },
  {
   "cell_type": "code",
   "execution_count": 10,
   "metadata": {
    "colab": {
     "base_uri": "https://localhost:8080/"
    },
    "id": "ODJcCIlfAntZ",
    "outputId": "c192c2d6-de6d-4b23-8eb5-c525bd71492a"
   },
   "outputs": [
    {
     "data": {
      "text/plain": [
       "array([[0.13889682],\n",
       "       [0.1331772 ],\n",
       "       [0.13474985],\n",
       "       ...,\n",
       "       [0.22293462],\n",
       "       [0.22898813],\n",
       "       [0.22806873]])"
      ]
     },
     "execution_count": 10,
     "metadata": {},
     "output_type": "execute_result"
    }
   ],
   "source": [
    "#HLC\n",
    "HLC = dataset[:, 2:5].astype(float)\n",
    "HLC = HLC.mean(axis=1)\n",
    "HLC = HLC.reshape(-1, 1)\n",
    "scalerHLC = MinMaxScaler()\n",
    "HLC = scalerHLC.fit_transform(HLC)\n",
    "HLC"
   ]
  },
  {
   "cell_type": "code",
   "execution_count": 11,
   "metadata": {
    "colab": {
     "base_uri": "https://localhost:8080/"
    },
    "id": "adtNkqxcAqyJ",
    "outputId": "28518bd5-a97e-496e-d5c2-de255cfdecaf"
   },
   "outputs": [
    {
     "data": {
      "text/plain": [
       "array([[0.0147031 ],\n",
       "       [0.01400219],\n",
       "       [0.01419491],\n",
       "       ...,\n",
       "       [0.9178307 ],\n",
       "       [0.94092005],\n",
       "       [0.93741328]])"
      ]
     },
     "execution_count": 11,
     "metadata": {},
     "output_type": "execute_result"
    }
   ],
   "source": [
    "#AdjustedHLC\n",
    "AdjustedHLC = dataset[:, 9:12].astype(float)\n",
    "AdjustedHLC = AdjustedHLC.mean(axis=1)\n",
    "AdjustedHLC = AdjustedHLC.reshape(-1, 1)\n",
    "scalerAdjustedHLC = MinMaxScaler()\n",
    "AdjustedHLC = scalerAdjustedHLC.fit_transform(AdjustedHLC)\n",
    "AdjustedHLC"
   ]
  },
  {
   "cell_type": "code",
   "execution_count": 12,
   "metadata": {
    "colab": {
     "base_uri": "https://localhost:8080/",
     "height": 206
    },
    "id": "BmoNm4Q2AtlB",
    "outputId": "2f23f9ac-6961-40ed-c3a8-8e7e3089cddd"
   },
   "outputs": [
    {
     "data": {
      "text/html": [
       "\n",
       "  <div id=\"df-358db0ff-b4cf-4be0-b72a-0b0441999419\">\n",
       "    <div class=\"colab-df-container\">\n",
       "      <div>\n",
       "<style scoped>\n",
       "    .dataframe tbody tr th:only-of-type {\n",
       "        vertical-align: middle;\n",
       "    }\n",
       "\n",
       "    .dataframe tbody tr th {\n",
       "        vertical-align: top;\n",
       "    }\n",
       "\n",
       "    .dataframe thead th {\n",
       "        text-align: right;\n",
       "    }\n",
       "</style>\n",
       "<table border=\"1\" class=\"dataframe\">\n",
       "  <thead>\n",
       "    <tr style=\"text-align: right;\">\n",
       "      <th></th>\n",
       "      <th>0</th>\n",
       "    </tr>\n",
       "  </thead>\n",
       "  <tbody>\n",
       "    <tr>\n",
       "      <th>0</th>\n",
       "      <td>0.137480</td>\n",
       "    </tr>\n",
       "    <tr>\n",
       "      <th>1</th>\n",
       "      <td>0.134417</td>\n",
       "    </tr>\n",
       "    <tr>\n",
       "      <th>2</th>\n",
       "      <td>0.133963</td>\n",
       "    </tr>\n",
       "    <tr>\n",
       "      <th>3</th>\n",
       "      <td>0.127359</td>\n",
       "    </tr>\n",
       "    <tr>\n",
       "      <th>4</th>\n",
       "      <td>0.123504</td>\n",
       "    </tr>\n",
       "  </tbody>\n",
       "</table>\n",
       "</div>\n",
       "      <button class=\"colab-df-convert\" onclick=\"convertToInteractive('df-358db0ff-b4cf-4be0-b72a-0b0441999419')\"\n",
       "              title=\"Convert this dataframe to an interactive table.\"\n",
       "              style=\"display:none;\">\n",
       "        \n",
       "  <svg xmlns=\"http://www.w3.org/2000/svg\" height=\"24px\"viewBox=\"0 0 24 24\"\n",
       "       width=\"24px\">\n",
       "    <path d=\"M0 0h24v24H0V0z\" fill=\"none\"/>\n",
       "    <path d=\"M18.56 5.44l.94 2.06.94-2.06 2.06-.94-2.06-.94-.94-2.06-.94 2.06-2.06.94zm-11 1L8.5 8.5l.94-2.06 2.06-.94-2.06-.94L8.5 2.5l-.94 2.06-2.06.94zm10 10l.94 2.06.94-2.06 2.06-.94-2.06-.94-.94-2.06-.94 2.06-2.06.94z\"/><path d=\"M17.41 7.96l-1.37-1.37c-.4-.4-.92-.59-1.43-.59-.52 0-1.04.2-1.43.59L10.3 9.45l-7.72 7.72c-.78.78-.78 2.05 0 2.83L4 21.41c.39.39.9.59 1.41.59.51 0 1.02-.2 1.41-.59l7.78-7.78 2.81-2.81c.8-.78.8-2.07 0-2.86zM5.41 20L4 18.59l7.72-7.72 1.47 1.35L5.41 20z\"/>\n",
       "  </svg>\n",
       "      </button>\n",
       "      \n",
       "  <style>\n",
       "    .colab-df-container {\n",
       "      display:flex;\n",
       "      flex-wrap:wrap;\n",
       "      gap: 12px;\n",
       "    }\n",
       "\n",
       "    .colab-df-convert {\n",
       "      background-color: #E8F0FE;\n",
       "      border: none;\n",
       "      border-radius: 50%;\n",
       "      cursor: pointer;\n",
       "      display: none;\n",
       "      fill: #1967D2;\n",
       "      height: 32px;\n",
       "      padding: 0 0 0 0;\n",
       "      width: 32px;\n",
       "    }\n",
       "\n",
       "    .colab-df-convert:hover {\n",
       "      background-color: #E2EBFA;\n",
       "      box-shadow: 0px 1px 2px rgba(60, 64, 67, 0.3), 0px 1px 3px 1px rgba(60, 64, 67, 0.15);\n",
       "      fill: #174EA6;\n",
       "    }\n",
       "\n",
       "    [theme=dark] .colab-df-convert {\n",
       "      background-color: #3B4455;\n",
       "      fill: #D2E3FC;\n",
       "    }\n",
       "\n",
       "    [theme=dark] .colab-df-convert:hover {\n",
       "      background-color: #434B5C;\n",
       "      box-shadow: 0px 1px 3px 1px rgba(0, 0, 0, 0.15);\n",
       "      filter: drop-shadow(0px 1px 2px rgba(0, 0, 0, 0.3));\n",
       "      fill: #FFFFFF;\n",
       "    }\n",
       "  </style>\n",
       "\n",
       "      <script>\n",
       "        const buttonEl =\n",
       "          document.querySelector('#df-358db0ff-b4cf-4be0-b72a-0b0441999419 button.colab-df-convert');\n",
       "        buttonEl.style.display =\n",
       "          google.colab.kernel.accessAllowed ? 'block' : 'none';\n",
       "\n",
       "        async function convertToInteractive(key) {\n",
       "          const element = document.querySelector('#df-358db0ff-b4cf-4be0-b72a-0b0441999419');\n",
       "          const dataTable =\n",
       "            await google.colab.kernel.invokeFunction('convertToInteractive',\n",
       "                                                     [key], {});\n",
       "          if (!dataTable) return;\n",
       "\n",
       "          const docLinkHtml = 'Like what you see? Visit the ' +\n",
       "            '<a target=\"_blank\" href=https://colab.research.google.com/notebooks/data_table.ipynb>data table notebook</a>'\n",
       "            + ' to learn more about interactive tables.';\n",
       "          element.innerHTML = '';\n",
       "          dataTable['output_type'] = 'display_data';\n",
       "          await google.colab.output.renderOutput(dataTable, element);\n",
       "          const docLink = document.createElement('div');\n",
       "          docLink.innerHTML = docLinkHtml;\n",
       "          element.appendChild(docLink);\n",
       "        }\n",
       "      </script>\n",
       "    </div>\n",
       "  </div>\n",
       "  "
      ],
      "text/plain": [
       "          0\n",
       "0  0.137480\n",
       "1  0.134417\n",
       "2  0.133963\n",
       "3  0.127359\n",
       "4  0.123504"
      ]
     },
     "execution_count": 12,
     "metadata": {},
     "output_type": "execute_result"
    }
   ],
   "source": [
    "dataset = pd.DataFrame(OHLC)\n",
    "dataset.head(5)"
   ]
  },
  {
   "cell_type": "code",
   "execution_count": 13,
   "metadata": {
    "colab": {
     "base_uri": "https://localhost:8080/"
    },
    "id": "4laBVUIMAwJ8",
    "outputId": "90377a43-24a7-42c3-ef62-edc706095c11"
   },
   "outputs": [
    {
     "name": "stdout",
     "output_type": "stream",
     "text": [
      "(4584, 1)\n",
      "(4584, 1)\n"
     ]
    },
    {
     "data": {
      "text/plain": [
       "(3667, 1, 1)"
      ]
     },
     "execution_count": 13,
     "metadata": {},
     "output_type": "execute_result"
    }
   ],
   "source": [
    "dataset = np.array(dataset)\n",
    "step_size = 1\n",
    "X = dataset[:-step_size]\n",
    "y = dataset[step_size:]\n",
    "print(X.shape)\n",
    "print(y.shape)\n",
    "train_length = int(X.shape[0] * 0.8)\n",
    "test_length = X.shape[0] - train_length\n",
    "X_train = X[:train_length].reshape(-1, 1, 1)\n",
    "X_test = X[train_length:].reshape(-1, 1, 1)\n",
    "y_train = y[:train_length]\n",
    "y_test = y[train_length:]\n",
    "X_train.shape"
   ]
  },
  {
   "cell_type": "code",
   "execution_count": 14,
   "metadata": {
    "colab": {
     "base_uri": "https://localhost:8080/"
    },
    "id": "619Z8GnXAy5V",
    "outputId": "3c291a4a-f9b9-4542-cb95-bfeefe23e324"
   },
   "outputs": [
    {
     "name": "stdout",
     "output_type": "stream",
     "text": [
      "Epoch 1/100\n",
      "115/115 [==============================] - 4s 3ms/step - loss: 0.0870\n",
      "Epoch 2/100\n",
      "115/115 [==============================] - 0s 3ms/step - loss: 0.0161\n",
      "Epoch 3/100\n",
      "115/115 [==============================] - 0s 3ms/step - loss: 4.4715e-04\n",
      "Epoch 4/100\n",
      "115/115 [==============================] - 0s 3ms/step - loss: 3.0533e-04\n",
      "Epoch 5/100\n",
      "115/115 [==============================] - 0s 3ms/step - loss: 2.6639e-04\n",
      "Epoch 6/100\n",
      "115/115 [==============================] - 0s 3ms/step - loss: 2.5897e-04\n",
      "Epoch 7/100\n",
      "115/115 [==============================] - 0s 3ms/step - loss: 2.4156e-04\n",
      "Epoch 8/100\n",
      "115/115 [==============================] - 0s 3ms/step - loss: 2.3219e-04\n",
      "Epoch 9/100\n",
      "115/115 [==============================] - 0s 3ms/step - loss: 2.2700e-04\n",
      "Epoch 10/100\n",
      "115/115 [==============================] - 0s 3ms/step - loss: 2.2711e-04\n",
      "Epoch 11/100\n",
      "115/115 [==============================] - 0s 3ms/step - loss: 2.2634e-04\n",
      "Epoch 12/100\n",
      "115/115 [==============================] - 0s 3ms/step - loss: 2.2393e-04\n",
      "Epoch 13/100\n",
      "115/115 [==============================] - 0s 3ms/step - loss: 2.2364e-04\n",
      "Epoch 14/100\n",
      "115/115 [==============================] - 0s 3ms/step - loss: 2.2828e-04\n",
      "Epoch 15/100\n",
      "115/115 [==============================] - 0s 3ms/step - loss: 2.2564e-04\n",
      "Epoch 16/100\n",
      "115/115 [==============================] - 0s 3ms/step - loss: 2.2281e-04\n",
      "Epoch 17/100\n",
      "115/115 [==============================] - 0s 3ms/step - loss: 2.2325e-04\n",
      "Epoch 18/100\n",
      "115/115 [==============================] - 0s 3ms/step - loss: 2.2218e-04\n",
      "Epoch 19/100\n",
      "115/115 [==============================] - 0s 3ms/step - loss: 2.3409e-04\n",
      "Epoch 20/100\n",
      "115/115 [==============================] - 0s 3ms/step - loss: 2.2516e-04\n",
      "Epoch 21/100\n",
      "115/115 [==============================] - 0s 3ms/step - loss: 2.2428e-04\n",
      "Epoch 22/100\n",
      "115/115 [==============================] - 0s 3ms/step - loss: 2.2549e-04\n",
      "Epoch 23/100\n",
      "115/115 [==============================] - 0s 3ms/step - loss: 2.2556e-04\n",
      "Epoch 24/100\n",
      "115/115 [==============================] - 0s 3ms/step - loss: 2.2694e-04\n",
      "Epoch 25/100\n",
      "115/115 [==============================] - 0s 3ms/step - loss: 2.2701e-04\n",
      "Epoch 26/100\n",
      "115/115 [==============================] - 0s 3ms/step - loss: 2.2782e-04\n",
      "Epoch 27/100\n",
      "115/115 [==============================] - 0s 3ms/step - loss: 2.2080e-04\n",
      "Epoch 28/100\n",
      "115/115 [==============================] - 0s 4ms/step - loss: 2.3014e-04\n",
      "Epoch 29/100\n",
      "115/115 [==============================] - 0s 3ms/step - loss: 2.2663e-04\n",
      "Epoch 30/100\n",
      "115/115 [==============================] - 0s 3ms/step - loss: 2.2881e-04\n",
      "Epoch 31/100\n",
      "115/115 [==============================] - 0s 3ms/step - loss: 2.2641e-04\n",
      "Epoch 32/100\n",
      "115/115 [==============================] - 0s 3ms/step - loss: 2.2904e-04\n",
      "Epoch 33/100\n",
      "115/115 [==============================] - 0s 3ms/step - loss: 2.2687e-04\n",
      "Epoch 34/100\n",
      "115/115 [==============================] - 0s 3ms/step - loss: 2.3304e-04\n",
      "Epoch 35/100\n",
      "115/115 [==============================] - 0s 3ms/step - loss: 2.2892e-04\n",
      "Epoch 36/100\n",
      "115/115 [==============================] - 0s 3ms/step - loss: 2.2634e-04\n",
      "Epoch 37/100\n",
      "115/115 [==============================] - 0s 3ms/step - loss: 2.1750e-04\n",
      "Epoch 38/100\n",
      "115/115 [==============================] - 0s 4ms/step - loss: 2.5199e-04\n",
      "Epoch 39/100\n",
      "115/115 [==============================] - 0s 3ms/step - loss: 2.2809e-04\n",
      "Epoch 40/100\n",
      "115/115 [==============================] - 0s 3ms/step - loss: 2.2739e-04\n",
      "Epoch 41/100\n",
      "115/115 [==============================] - 0s 3ms/step - loss: 2.3334e-04\n",
      "Epoch 42/100\n",
      "115/115 [==============================] - 0s 3ms/step - loss: 2.2846e-04\n",
      "Epoch 43/100\n",
      "115/115 [==============================] - 0s 3ms/step - loss: 2.2629e-04\n",
      "Epoch 44/100\n",
      "115/115 [==============================] - 0s 3ms/step - loss: 2.3307e-04\n",
      "Epoch 45/100\n",
      "115/115 [==============================] - 0s 3ms/step - loss: 2.2453e-04\n",
      "Epoch 46/100\n",
      "115/115 [==============================] - 0s 3ms/step - loss: 2.2838e-04\n",
      "Epoch 47/100\n",
      "115/115 [==============================] - 0s 3ms/step - loss: 2.3169e-04\n",
      "Epoch 48/100\n",
      "115/115 [==============================] - 0s 3ms/step - loss: 2.3423e-04\n",
      "Epoch 49/100\n",
      "115/115 [==============================] - 0s 3ms/step - loss: 2.2505e-04\n",
      "Epoch 50/100\n",
      "115/115 [==============================] - 0s 4ms/step - loss: 2.2882e-04\n",
      "Epoch 51/100\n",
      "115/115 [==============================] - 0s 3ms/step - loss: 2.3425e-04\n",
      "Epoch 52/100\n",
      "115/115 [==============================] - 0s 3ms/step - loss: 2.2423e-04\n",
      "Epoch 53/100\n",
      "115/115 [==============================] - 0s 3ms/step - loss: 2.3138e-04\n",
      "Epoch 54/100\n",
      "115/115 [==============================] - 0s 3ms/step - loss: 2.2558e-04\n",
      "Epoch 55/100\n",
      "115/115 [==============================] - 0s 3ms/step - loss: 2.2966e-04\n",
      "Epoch 56/100\n",
      "115/115 [==============================] - 0s 3ms/step - loss: 2.3073e-04\n",
      "Epoch 57/100\n",
      "115/115 [==============================] - 0s 3ms/step - loss: 2.2955e-04\n",
      "Epoch 58/100\n",
      "115/115 [==============================] - 0s 3ms/step - loss: 2.3059e-04\n",
      "Epoch 59/100\n",
      "115/115 [==============================] - 0s 3ms/step - loss: 2.3120e-04\n",
      "Epoch 60/100\n",
      "115/115 [==============================] - 0s 3ms/step - loss: 2.2793e-04\n",
      "Epoch 61/100\n",
      "115/115 [==============================] - 0s 3ms/step - loss: 2.2632e-04\n",
      "Epoch 62/100\n",
      "115/115 [==============================] - 0s 3ms/step - loss: 2.3194e-04\n",
      "Epoch 63/100\n",
      "115/115 [==============================] - 0s 3ms/step - loss: 2.2877e-04\n",
      "Epoch 64/100\n",
      "115/115 [==============================] - 0s 3ms/step - loss: 2.3014e-04\n",
      "Epoch 65/100\n",
      "115/115 [==============================] - 0s 3ms/step - loss: 2.2374e-04\n",
      "Epoch 66/100\n",
      "115/115 [==============================] - 0s 3ms/step - loss: 2.3036e-04\n",
      "Epoch 67/100\n",
      "115/115 [==============================] - 0s 3ms/step - loss: 2.1618e-04\n",
      "Epoch 68/100\n",
      "115/115 [==============================] - 0s 3ms/step - loss: 2.4902e-04\n",
      "Epoch 69/100\n",
      "115/115 [==============================] - 0s 3ms/step - loss: 2.2382e-04\n",
      "Epoch 70/100\n",
      "115/115 [==============================] - 0s 3ms/step - loss: 2.3521e-04\n",
      "Epoch 71/100\n",
      "115/115 [==============================] - 0s 3ms/step - loss: 2.3103e-04\n",
      "Epoch 72/100\n",
      "115/115 [==============================] - 0s 3ms/step - loss: 2.3077e-04\n",
      "Epoch 73/100\n",
      "115/115 [==============================] - 0s 3ms/step - loss: 2.2972e-04\n",
      "Epoch 74/100\n",
      "115/115 [==============================] - 0s 3ms/step - loss: 2.3364e-04\n",
      "Epoch 75/100\n",
      "115/115 [==============================] - 0s 3ms/step - loss: 2.3350e-04\n",
      "Epoch 76/100\n",
      "115/115 [==============================] - 0s 3ms/step - loss: 2.2607e-04\n",
      "Epoch 77/100\n",
      "115/115 [==============================] - 0s 3ms/step - loss: 2.3021e-04\n",
      "Epoch 78/100\n",
      "115/115 [==============================] - 0s 4ms/step - loss: 2.2666e-04\n",
      "Epoch 79/100\n",
      "115/115 [==============================] - 0s 3ms/step - loss: 2.2757e-04\n",
      "Epoch 80/100\n",
      "115/115 [==============================] - 0s 3ms/step - loss: 2.3127e-04\n",
      "Epoch 81/100\n",
      "115/115 [==============================] - 0s 3ms/step - loss: 2.3025e-04\n",
      "Epoch 82/100\n",
      "115/115 [==============================] - 0s 3ms/step - loss: 2.3028e-04\n",
      "Epoch 83/100\n",
      "115/115 [==============================] - 0s 3ms/step - loss: 2.2728e-04\n",
      "Epoch 84/100\n",
      "115/115 [==============================] - 0s 3ms/step - loss: 2.3521e-04\n",
      "Epoch 85/100\n",
      "115/115 [==============================] - 0s 3ms/step - loss: 2.2466e-04\n",
      "Epoch 86/100\n",
      "115/115 [==============================] - 0s 3ms/step - loss: 2.2749e-04\n",
      "Epoch 87/100\n",
      "115/115 [==============================] - 0s 3ms/step - loss: 2.3196e-04\n",
      "Epoch 88/100\n",
      "115/115 [==============================] - 0s 4ms/step - loss: 2.3336e-04\n",
      "Epoch 89/100\n",
      "115/115 [==============================] - 0s 3ms/step - loss: 2.3185e-04\n",
      "Epoch 90/100\n",
      "115/115 [==============================] - 0s 3ms/step - loss: 2.2651e-04\n",
      "Epoch 91/100\n",
      "115/115 [==============================] - 0s 3ms/step - loss: 2.2028e-04\n",
      "Epoch 92/100\n",
      "115/115 [==============================] - 0s 3ms/step - loss: 2.2466e-04\n",
      "Epoch 93/100\n",
      "115/115 [==============================] - 0s 3ms/step - loss: 2.3135e-04\n",
      "Epoch 94/100\n",
      "115/115 [==============================] - 0s 3ms/step - loss: 2.2965e-04\n",
      "Epoch 95/100\n",
      "115/115 [==============================] - 0s 3ms/step - loss: 2.3167e-04\n",
      "Epoch 96/100\n",
      "115/115 [==============================] - 0s 3ms/step - loss: 2.3158e-04\n",
      "Epoch 97/100\n",
      "115/115 [==============================] - 0s 3ms/step - loss: 2.2886e-04\n",
      "Epoch 98/100\n",
      "115/115 [==============================] - 0s 3ms/step - loss: 2.2094e-04\n",
      "Epoch 99/100\n",
      "115/115 [==============================] - 0s 3ms/step - loss: 2.3509e-04\n",
      "Epoch 100/100\n",
      "115/115 [==============================] - 0s 3ms/step - loss: 2.3076e-04\n"
     ]
    },
    {
     "data": {
      "text/plain": [
       "<keras.callbacks.History at 0x7fb920072760>"
      ]
     },
     "execution_count": 14,
     "metadata": {},
     "output_type": "execute_result"
    }
   ],
   "source": [
    "from keras.layers import Dense\n",
    "from keras.layers import LSTM\n",
    "from keras.models import Sequential\n",
    "\n",
    "regressor = Sequential()\n",
    "regressor.add(LSTM(units=16, input_shape=(None, 1), return_sequences=True))\n",
    "regressor.add(LSTM(units=32, activation='relu'))\n",
    "regressor.add(Dense(units=1))\n",
    "regressor.compile(optimizer='adam', loss='mean_squared_error')\n",
    "regressor.fit(X_train, y_train, batch_size=32, epochs=100)"
   ]
  },
  {
   "cell_type": "code",
   "execution_count": 15,
   "metadata": {
    "colab": {
     "base_uri": "https://localhost:8080/"
    },
    "id": "NT9b1QhpA2LK",
    "outputId": "4c6a5d4e-2457-4720-9051-2f62f9ab340e"
   },
   "outputs": [
    {
     "name": "stdout",
     "output_type": "stream",
     "text": [
      "29/29 [==============================] - 1s 5ms/step\n",
      "0.9892784827359534\n"
     ]
    },
    {
     "data": {
      "text/plain": [
       "array([[ 93.45817566,  95.9275    ],\n",
       "       [ 93.78092194,  95.13      ],\n",
       "       [ 92.95744324,  94.975     ],\n",
       "       ...,\n",
       "       [167.83894348, 167.0475    ],\n",
       "       [164.83576965, 170.095     ],\n",
       "       [167.90315247, 171.0225    ]])"
      ]
     },
     "execution_count": 15,
     "metadata": {},
     "output_type": "execute_result"
    }
   ],
   "source": [
    "y_predict = scalerOHLC.inverse_transform(regressor.predict(X_test))\n",
    "y_test = scalerOHLC.inverse_transform(y_test)\n",
    "from sklearn.metrics import r2_score\n",
    "print(r2_score(y_test, y_predict))\n",
    "np.c_[y_predict, y_test]"
   ]
  },
  {
   "cell_type": "code",
   "execution_count": 16,
   "metadata": {
    "colab": {
     "base_uri": "https://localhost:8080/",
     "height": 265
    },
    "id": "ZxNeflIlBD8t",
    "outputId": "63b2340c-4e3c-4296-f80b-f3a3b35a0068"
   },
   "outputs": [
    {
     "data": {
      "image/png": "[encoded data removed]",
      "text/plain": [
       "<Figure size 432x288 with 1 Axes>"
      ]
     },
     "metadata": {
      "needs_background": "light"
     },
     "output_type": "display_data"
    }
   ],
   "source": [
    "import matplotlib.pyplot as plt\n",
    "plt.plot(y_test, color = 'red', label = 'True Price')\n",
    "plt.plot(y_predict, color = 'green', label = 'Predicted Price')\n",
    "plt.legend()\n",
    "plt.show()"
   ]
  },
  {
   "cell_type": "code",
   "execution_count": null,
   "metadata": {
    "id": "OdjHI3bqBHUw"
   },
   "outputs": [],
   "source": []
  }
 ],
 "metadata": {
  "colab": {
   "provenance": []
  },
  "kernelspec": {
   "display_name": "Python 3 (ipykernel)",
   "language": "python",
   "name": "python3"
  },
  "language_info": {
   "codemirror_mode": {
    "name": "ipython",
    "version": 3
   },
   "file_extension": ".py",
   "mimetype": "text/x-python",
   "name": "python",
   "nbconvert_exporter": "python",
   "pygments_lexer": "ipython3",
   "version": "3.9.12"
  }
 },
 "nbformat": 4,
 "nbformat_minor": 1
}
